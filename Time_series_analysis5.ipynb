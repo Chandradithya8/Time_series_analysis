{
  "nbformat": 4,
  "nbformat_minor": 0,
  "metadata": {
    "colab": {
      "name": "Time_series_analysis5.ipynb",
      "provenance": [],
      "authorship_tag": "ABX9TyPtEeldGFsyreF6PY+B6FDx",
      "include_colab_link": true
    },
    "kernelspec": {
      "name": "python3",
      "display_name": "Python 3"
    }
  },
  "cells": [
    {
      "cell_type": "markdown",
      "metadata": {
        "id": "view-in-github",
        "colab_type": "text"
      },
      "source": [
        "<a href=\"https://colab.research.google.com/github/Chandradithya8/Time_series_analysis/blob/master/Time_series_analysis5.ipynb\" target=\"_parent\"><img src=\"https://colab.research.google.com/assets/colab-badge.svg\" alt=\"Open In Colab\"/></a>"
      ]
    },
    {
      "cell_type": "code",
      "metadata": {
        "id": "dbQbkJFjmokN",
        "colab_type": "code",
        "colab": {
          "base_uri": "https://localhost:8080/",
          "height": 34
        },
        "outputId": "ea8632a2-e7c6-48da-f35c-754dc3e9da7f"
      },
      "source": [
        "import pandas as pd\n",
        "y=pd.Period('2016') #year\n",
        "y"
      ],
      "execution_count": null,
      "outputs": [
        {
          "output_type": "execute_result",
          "data": {
            "text/plain": [
              "Period('2016', 'A-DEC')"
            ]
          },
          "metadata": {
            "tags": []
          },
          "execution_count": 1
        }
      ]
    },
    {
      "cell_type": "code",
      "metadata": {
        "id": "qzuNhxoukB9B",
        "colab_type": "code",
        "colab": {
          "base_uri": "https://localhost:8080/",
          "height": 34
        },
        "outputId": "b8b6ffac-0d23-4352-e770-33b26403137a"
      },
      "source": [
        "y.start_time"
      ],
      "execution_count": null,
      "outputs": [
        {
          "output_type": "execute_result",
          "data": {
            "text/plain": [
              "Timestamp('2016-01-01 00:00:00')"
            ]
          },
          "metadata": {
            "tags": []
          },
          "execution_count": 2
        }
      ]
    },
    {
      "cell_type": "code",
      "metadata": {
        "id": "yGxS3BGOlR9W",
        "colab_type": "code",
        "colab": {
          "base_uri": "https://localhost:8080/",
          "height": 34
        },
        "outputId": "42ddc8a6-b3a3-4e1e-f906-09a7ae421a26"
      },
      "source": [
        "y.end_time"
      ],
      "execution_count": null,
      "outputs": [
        {
          "output_type": "execute_result",
          "data": {
            "text/plain": [
              "Timestamp('2016-12-31 23:59:59.999999999')"
            ]
          },
          "metadata": {
            "tags": []
          },
          "execution_count": 3
        }
      ]
    },
    {
      "cell_type": "code",
      "metadata": {
        "id": "9Y6tV3jDlX0Z",
        "colab_type": "code",
        "colab": {
          "base_uri": "https://localhost:8080/",
          "height": 34
        },
        "outputId": "417bbed8-6e83-4477-e876-cac995e6fab4"
      },
      "source": [
        "m=pd.Period('2011-01',freq='m')\n",
        "m.start_time"
      ],
      "execution_count": null,
      "outputs": [
        {
          "output_type": "execute_result",
          "data": {
            "text/plain": [
              "Timestamp('2011-01-01 00:00:00')"
            ]
          },
          "metadata": {
            "tags": []
          },
          "execution_count": 4
        }
      ]
    },
    {
      "cell_type": "code",
      "metadata": {
        "id": "mSJc01CTly8L",
        "colab_type": "code",
        "colab": {
          "base_uri": "https://localhost:8080/",
          "height": 34
        },
        "outputId": "896c2b42-cee9-41e1-b8cb-d79611c60a07"
      },
      "source": [
        "m.end_time"
      ],
      "execution_count": null,
      "outputs": [
        {
          "output_type": "execute_result",
          "data": {
            "text/plain": [
              "Timestamp('2011-01-31 23:59:59.999999999')"
            ]
          },
          "metadata": {
            "tags": []
          },
          "execution_count": 5
        }
      ]
    },
    {
      "cell_type": "code",
      "metadata": {
        "id": "WBqce7Wtl5jZ",
        "colab_type": "code",
        "colab": {
          "base_uri": "https://localhost:8080/",
          "height": 34
        },
        "outputId": "5a71b9f2-70a8-444a-fd62-0878c933af28"
      },
      "source": [
        "m+1 #operations on period"
      ],
      "execution_count": null,
      "outputs": [
        {
          "output_type": "execute_result",
          "data": {
            "text/plain": [
              "Period('2011-02', 'M')"
            ]
          },
          "metadata": {
            "tags": []
          },
          "execution_count": 6
        }
      ]
    },
    {
      "cell_type": "code",
      "metadata": {
        "id": "iOLcXMIlmI-v",
        "colab_type": "code",
        "colab": {
          "base_uri": "https://localhost:8080/",
          "height": 34
        },
        "outputId": "351482f1-b2c7-4e5f-c096-a6024858b53d"
      },
      "source": [
        "d=pd.Period('2017-02-20',freq='d')\n",
        "d"
      ],
      "execution_count": null,
      "outputs": [
        {
          "output_type": "execute_result",
          "data": {
            "text/plain": [
              "Period('2017-02-20', 'D')"
            ]
          },
          "metadata": {
            "tags": []
          },
          "execution_count": 7
        }
      ]
    },
    {
      "cell_type": "code",
      "metadata": {
        "id": "0QtGbzCLmpxn",
        "colab_type": "code",
        "colab": {
          "base_uri": "https://localhost:8080/",
          "height": 34
        },
        "outputId": "6db8b989-289c-4bf5-d6d3-8821d8b6288e"
      },
      "source": [
        "d.end_time"
      ],
      "execution_count": null,
      "outputs": [
        {
          "output_type": "execute_result",
          "data": {
            "text/plain": [
              "Timestamp('2017-02-20 23:59:59.999999999')"
            ]
          },
          "metadata": {
            "tags": []
          },
          "execution_count": 8
        }
      ]
    },
    {
      "cell_type": "code",
      "metadata": {
        "id": "eVEtbc2-mr63",
        "colab_type": "code",
        "colab": {
          "base_uri": "https://localhost:8080/",
          "height": 34
        },
        "outputId": "1e41137e-91bd-4da3-bd21-b1bc45498f9a"
      },
      "source": [
        "d+1"
      ],
      "execution_count": null,
      "outputs": [
        {
          "output_type": "execute_result",
          "data": {
            "text/plain": [
              "Period('2017-02-21', 'D')"
            ]
          },
          "metadata": {
            "tags": []
          },
          "execution_count": 9
        }
      ]
    },
    {
      "cell_type": "code",
      "metadata": {
        "id": "rm8SFoPfnAo_",
        "colab_type": "code",
        "colab": {
          "base_uri": "https://localhost:8080/",
          "height": 34
        },
        "outputId": "0108be5e-9d70-4878-e8b0-97edd68a5274"
      },
      "source": [
        "h=pd.Period('2017-02-20 23:00:00',freq=\"h\")\n",
        "h"
      ],
      "execution_count": null,
      "outputs": [
        {
          "output_type": "execute_result",
          "data": {
            "text/plain": [
              "Period('2017-02-20 23:00', 'H')"
            ]
          },
          "metadata": {
            "tags": []
          },
          "execution_count": 10
        }
      ]
    },
    {
      "cell_type": "code",
      "metadata": {
        "id": "0nhzaRIWnV09",
        "colab_type": "code",
        "colab": {
          "base_uri": "https://localhost:8080/",
          "height": 34
        },
        "outputId": "39ca6ebc-6786-49f4-d054-1a8446d068c9"
      },
      "source": [
        "h+1"
      ],
      "execution_count": null,
      "outputs": [
        {
          "output_type": "execute_result",
          "data": {
            "text/plain": [
              "Period('2017-02-21 00:00', 'H')"
            ]
          },
          "metadata": {
            "tags": []
          },
          "execution_count": 11
        }
      ]
    },
    {
      "cell_type": "code",
      "metadata": {
        "id": "rYYL5WDV5nIm",
        "colab_type": "code",
        "colab": {
          "base_uri": "https://localhost:8080/",
          "height": 34
        },
        "outputId": "ff6f359a-0dae-4625-c8de-2f6f0faca93b"
      },
      "source": [
        "h.start_time\n",
        "h"
      ],
      "execution_count": null,
      "outputs": [
        {
          "output_type": "execute_result",
          "data": {
            "text/plain": [
              "Period('2017-02-20 23:00', 'H')"
            ]
          },
          "metadata": {
            "tags": []
          },
          "execution_count": 12
        }
      ]
    },
    {
      "cell_type": "code",
      "metadata": {
        "id": "hHWCi8Bs5twx",
        "colab_type": "code",
        "colab": {
          "base_uri": "https://localhost:8080/",
          "height": 34
        },
        "outputId": "121320bf-8aff-47d7-8586-91ae0e3be4aa"
      },
      "source": [
        "h.end_time\n",
        "h"
      ],
      "execution_count": null,
      "outputs": [
        {
          "output_type": "execute_result",
          "data": {
            "text/plain": [
              "Period('2017-02-20 23:00', 'H')"
            ]
          },
          "metadata": {
            "tags": []
          },
          "execution_count": 13
        }
      ]
    },
    {
      "cell_type": "code",
      "metadata": {
        "id": "6dtQVWxk5wUp",
        "colab_type": "code",
        "colab": {
          "base_uri": "https://localhost:8080/",
          "height": 34
        },
        "outputId": "6b6e7fe9-9bdf-4f19-f8bf-e07bd58895b9"
      },
      "source": [
        "q=pd.Period('2017Q1') #fiscal time; Q-quater\n",
        "q"
      ],
      "execution_count": null,
      "outputs": [
        {
          "output_type": "execute_result",
          "data": {
            "text/plain": [
              "Period('2017Q1', 'Q-DEC')"
            ]
          },
          "metadata": {
            "tags": []
          },
          "execution_count": 14
        }
      ]
    },
    {
      "cell_type": "code",
      "metadata": {
        "id": "7y8kS3xx6vDu",
        "colab_type": "code",
        "colab": {
          "base_uri": "https://localhost:8080/",
          "height": 34
        },
        "outputId": "7cfee03c-1788-4490-cb20-5d9b060428cf"
      },
      "source": [
        "q.start_time"
      ],
      "execution_count": null,
      "outputs": [
        {
          "output_type": "execute_result",
          "data": {
            "text/plain": [
              "Timestamp('2017-01-01 00:00:00')"
            ]
          },
          "metadata": {
            "tags": []
          },
          "execution_count": 15
        }
      ]
    },
    {
      "cell_type": "code",
      "metadata": {
        "id": "qpOzSsiD60M2",
        "colab_type": "code",
        "colab": {
          "base_uri": "https://localhost:8080/",
          "height": 34
        },
        "outputId": "c7404bf0-6935-4f49-9a10-fb11a8ceada8"
      },
      "source": [
        "q=pd.Period('2017Q1',freq='Q-JAN')\n",
        "q"
      ],
      "execution_count": null,
      "outputs": [
        {
          "output_type": "execute_result",
          "data": {
            "text/plain": [
              "Period('2017Q1', 'Q-JAN')"
            ]
          },
          "metadata": {
            "tags": []
          },
          "execution_count": 16
        }
      ]
    },
    {
      "cell_type": "code",
      "metadata": {
        "id": "ngIL9zKu7RmP",
        "colab_type": "code",
        "colab": {
          "base_uri": "https://localhost:8080/",
          "height": 34
        },
        "outputId": "f4e1d246-9378-4528-cd17-9db751d0c102"
      },
      "source": [
        "q.start_time"
      ],
      "execution_count": null,
      "outputs": [
        {
          "output_type": "execute_result",
          "data": {
            "text/plain": [
              "Timestamp('2016-02-01 00:00:00')"
            ]
          },
          "metadata": {
            "tags": []
          },
          "execution_count": 17
        }
      ]
    },
    {
      "cell_type": "code",
      "metadata": {
        "id": "x_vlffI07h7e",
        "colab_type": "code",
        "colab": {
          "base_uri": "https://localhost:8080/",
          "height": 119
        },
        "outputId": "5ade00c8-7f90-4a8f-8f83-5e16eb729a0b"
      },
      "source": [
        "#  period index\n",
        "idx=pd.period_range('2011','2017',freq='q')\n",
        "idx"
      ],
      "execution_count": null,
      "outputs": [
        {
          "output_type": "execute_result",
          "data": {
            "text/plain": [
              "PeriodIndex(['2011Q1', '2011Q2', '2011Q3', '2011Q4', '2012Q1', '2012Q2',\n",
              "             '2012Q3', '2012Q4', '2013Q1', '2013Q2', '2013Q3', '2013Q4',\n",
              "             '2014Q1', '2014Q2', '2014Q3', '2014Q4', '2015Q1', '2015Q2',\n",
              "             '2015Q3', '2015Q4', '2016Q1', '2016Q2', '2016Q3', '2016Q4',\n",
              "             '2017Q1'],\n",
              "            dtype='period[Q-DEC]', freq='Q-DEC')"
            ]
          },
          "metadata": {
            "tags": []
          },
          "execution_count": 18
        }
      ]
    },
    {
      "cell_type": "code",
      "metadata": {
        "id": "PmmD98x59V-L",
        "colab_type": "code",
        "colab": {
          "base_uri": "https://localhost:8080/",
          "height": 459
        },
        "outputId": "8b44cfdb-0f95-4a7f-930a-bd9ee634528a"
      },
      "source": [
        "import numpy as np\n",
        "dp=pd.Series(np.random.randint(1,10,len(idx)),idx)\n",
        "dp"
      ],
      "execution_count": null,
      "outputs": [
        {
          "output_type": "execute_result",
          "data": {
            "text/plain": [
              "2011Q1    6\n",
              "2011Q2    9\n",
              "2011Q3    4\n",
              "2011Q4    6\n",
              "2012Q1    7\n",
              "2012Q2    4\n",
              "2012Q3    7\n",
              "2012Q4    2\n",
              "2013Q1    2\n",
              "2013Q2    2\n",
              "2013Q3    4\n",
              "2013Q4    8\n",
              "2014Q1    4\n",
              "2014Q2    5\n",
              "2014Q3    1\n",
              "2014Q4    3\n",
              "2015Q1    7\n",
              "2015Q2    5\n",
              "2015Q3    7\n",
              "2015Q4    9\n",
              "2016Q1    4\n",
              "2016Q2    3\n",
              "2016Q3    5\n",
              "2016Q4    8\n",
              "2017Q1    2\n",
              "Freq: Q-DEC, dtype: int64"
            ]
          },
          "metadata": {
            "tags": []
          },
          "execution_count": 19
        }
      ]
    },
    {
      "cell_type": "code",
      "metadata": {
        "id": "oVx9jyps_Z3g",
        "colab_type": "code",
        "colab": {
          "base_uri": "https://localhost:8080/",
          "height": 119
        },
        "outputId": "26065578-d9ea-4306-f0da-4f08a6b6e076"
      },
      "source": [
        "dp.index"
      ],
      "execution_count": null,
      "outputs": [
        {
          "output_type": "execute_result",
          "data": {
            "text/plain": [
              "PeriodIndex(['2011Q1', '2011Q2', '2011Q3', '2011Q4', '2012Q1', '2012Q2',\n",
              "             '2012Q3', '2012Q4', '2013Q1', '2013Q2', '2013Q3', '2013Q4',\n",
              "             '2014Q1', '2014Q2', '2014Q3', '2014Q4', '2015Q1', '2015Q2',\n",
              "             '2015Q3', '2015Q4', '2016Q1', '2016Q2', '2016Q3', '2016Q4',\n",
              "             '2017Q1'],\n",
              "            dtype='period[Q-DEC]', freq='Q-DEC')"
            ]
          },
          "metadata": {
            "tags": []
          },
          "execution_count": 20
        }
      ]
    },
    {
      "cell_type": "code",
      "metadata": {
        "id": "10jqucsh_n3G",
        "colab_type": "code",
        "colab": {
          "base_uri": "https://localhost:8080/",
          "height": 102
        },
        "outputId": "aa61d83c-5daa-4002-995e-feaa9cdd3403"
      },
      "source": [
        "dp['2011']"
      ],
      "execution_count": null,
      "outputs": [
        {
          "output_type": "execute_result",
          "data": {
            "text/plain": [
              "2011Q1    6\n",
              "2011Q2    9\n",
              "2011Q3    4\n",
              "2011Q4    6\n",
              "Freq: Q-DEC, dtype: int64"
            ]
          },
          "metadata": {
            "tags": []
          },
          "execution_count": 21
        }
      ]
    },
    {
      "cell_type": "code",
      "metadata": {
        "id": "Tq9NcM3UAJYz",
        "colab_type": "code",
        "colab": {
          "base_uri": "https://localhost:8080/",
          "height": 459
        },
        "outputId": "ed663e25-41da-4586-d137-d6566de7f2e5"
      },
      "source": [
        "dpp=dp.to_timestamp()\n",
        "dpp"
      ],
      "execution_count": null,
      "outputs": [
        {
          "output_type": "execute_result",
          "data": {
            "text/plain": [
              "2011-01-01    6\n",
              "2011-04-01    9\n",
              "2011-07-01    4\n",
              "2011-10-01    6\n",
              "2012-01-01    7\n",
              "2012-04-01    4\n",
              "2012-07-01    7\n",
              "2012-10-01    2\n",
              "2013-01-01    2\n",
              "2013-04-01    2\n",
              "2013-07-01    4\n",
              "2013-10-01    8\n",
              "2014-01-01    4\n",
              "2014-04-01    5\n",
              "2014-07-01    1\n",
              "2014-10-01    3\n",
              "2015-01-01    7\n",
              "2015-04-01    5\n",
              "2015-07-01    7\n",
              "2015-10-01    9\n",
              "2016-01-01    4\n",
              "2016-04-01    3\n",
              "2016-07-01    5\n",
              "2016-10-01    8\n",
              "2017-01-01    2\n",
              "Freq: QS-OCT, dtype: int64"
            ]
          },
          "metadata": {
            "tags": []
          },
          "execution_count": 22
        }
      ]
    },
    {
      "cell_type": "code",
      "metadata": {
        "id": "6bsilcxsCBQ1",
        "colab_type": "code",
        "colab": {
          "base_uri": "https://localhost:8080/",
          "height": 153
        },
        "outputId": "a52809b6-aedd-4b34-84ad-40541a024689"
      },
      "source": [
        "dpp.index"
      ],
      "execution_count": null,
      "outputs": [
        {
          "output_type": "execute_result",
          "data": {
            "text/plain": [
              "DatetimeIndex(['2011-01-01', '2011-04-01', '2011-07-01', '2011-10-01',\n",
              "               '2012-01-01', '2012-04-01', '2012-07-01', '2012-10-01',\n",
              "               '2013-01-01', '2013-04-01', '2013-07-01', '2013-10-01',\n",
              "               '2014-01-01', '2014-04-01', '2014-07-01', '2014-10-01',\n",
              "               '2015-01-01', '2015-04-01', '2015-07-01', '2015-10-01',\n",
              "               '2016-01-01', '2016-04-01', '2016-07-01', '2016-10-01',\n",
              "               '2017-01-01'],\n",
              "              dtype='datetime64[ns]', freq='QS-OCT')"
            ]
          },
          "metadata": {
            "tags": []
          },
          "execution_count": 23
        }
      ]
    },
    {
      "cell_type": "code",
      "metadata": {
        "id": "K4T-tr62DgJj",
        "colab_type": "code",
        "colab": {
          "base_uri": "https://localhost:8080/",
          "height": 459
        },
        "outputId": "dbad102e-f06d-41a9-a5af-b727cd3a024d"
      },
      "source": [
        "dpp.to_period()"
      ],
      "execution_count": null,
      "outputs": [
        {
          "output_type": "execute_result",
          "data": {
            "text/plain": [
              "2011Q1    6\n",
              "2011Q2    9\n",
              "2011Q3    4\n",
              "2011Q4    6\n",
              "2012Q1    7\n",
              "2012Q2    4\n",
              "2012Q3    7\n",
              "2012Q4    2\n",
              "2013Q1    2\n",
              "2013Q2    2\n",
              "2013Q3    4\n",
              "2013Q4    8\n",
              "2014Q1    4\n",
              "2014Q2    5\n",
              "2014Q3    1\n",
              "2014Q4    3\n",
              "2015Q1    7\n",
              "2015Q2    5\n",
              "2015Q3    7\n",
              "2015Q4    9\n",
              "2016Q1    4\n",
              "2016Q2    3\n",
              "2016Q3    5\n",
              "2016Q4    8\n",
              "2017Q1    2\n",
              "Freq: Q-DEC, dtype: int64"
            ]
          },
          "metadata": {
            "tags": []
          },
          "execution_count": 24
        }
      ]
    },
    {
      "cell_type": "code",
      "metadata": {
        "id": "Fx-OXmYZD4hT",
        "colab_type": "code",
        "colab": {
          "base_uri": "https://localhost:8080/",
          "height": 142
        },
        "outputId": "4cab83a4-8df9-4151-d839-87bfca34e0ed"
      },
      "source": [
        "import pandas as pd\n",
        "df=pd.read_csv(\"/content/wmt.csv.txt\")\n",
        "df"
      ],
      "execution_count": null,
      "outputs": [
        {
          "output_type": "execute_result",
          "data": {
            "text/html": [
              "<div>\n",
              "<style scoped>\n",
              "    .dataframe tbody tr th:only-of-type {\n",
              "        vertical-align: middle;\n",
              "    }\n",
              "\n",
              "    .dataframe tbody tr th {\n",
              "        vertical-align: top;\n",
              "    }\n",
              "\n",
              "    .dataframe thead th {\n",
              "        text-align: right;\n",
              "    }\n",
              "</style>\n",
              "<table border=\"1\" class=\"dataframe\">\n",
              "  <thead>\n",
              "    <tr style=\"text-align: right;\">\n",
              "      <th></th>\n",
              "      <th>Line Item</th>\n",
              "      <th>2017Q1</th>\n",
              "      <th>2017Q2</th>\n",
              "      <th>2017Q3</th>\n",
              "      <th>2017Q4</th>\n",
              "      <th>2018Q1</th>\n",
              "    </tr>\n",
              "  </thead>\n",
              "  <tbody>\n",
              "    <tr>\n",
              "      <th>0</th>\n",
              "      <td>Revenue</td>\n",
              "      <td>115904</td>\n",
              "      <td>120854</td>\n",
              "      <td>118179</td>\n",
              "      <td>130936</td>\n",
              "      <td>117542</td>\n",
              "    </tr>\n",
              "    <tr>\n",
              "      <th>1</th>\n",
              "      <td>Expenses</td>\n",
              "      <td>86544</td>\n",
              "      <td>89485</td>\n",
              "      <td>87484</td>\n",
              "      <td>97743</td>\n",
              "      <td>87688</td>\n",
              "    </tr>\n",
              "    <tr>\n",
              "      <th>2</th>\n",
              "      <td>Profit</td>\n",
              "      <td>29360</td>\n",
              "      <td>31369</td>\n",
              "      <td>30695</td>\n",
              "      <td>33193</td>\n",
              "      <td>29854</td>\n",
              "    </tr>\n",
              "  </tbody>\n",
              "</table>\n",
              "</div>"
            ],
            "text/plain": [
              "  Line Item  2017Q1  2017Q2  2017Q3  2017Q4  2018Q1\n",
              "0   Revenue  115904  120854  118179  130936  117542\n",
              "1  Expenses   86544   89485   87484   97743   87688\n",
              "2    Profit   29360   31369   30695   33193   29854"
            ]
          },
          "metadata": {
            "tags": []
          },
          "execution_count": 25
        }
      ]
    },
    {
      "cell_type": "code",
      "metadata": {
        "id": "VLED4UE8F0Kv",
        "colab_type": "code",
        "colab": {
          "base_uri": "https://localhost:8080/",
          "height": 173
        },
        "outputId": "ff617f59-37b8-484b-ce22-510b1ed35423"
      },
      "source": [
        "df.set_index('Line Item',inplace=True)\n",
        "df"
      ],
      "execution_count": null,
      "outputs": [
        {
          "output_type": "execute_result",
          "data": {
            "text/html": [
              "<div>\n",
              "<style scoped>\n",
              "    .dataframe tbody tr th:only-of-type {\n",
              "        vertical-align: middle;\n",
              "    }\n",
              "\n",
              "    .dataframe tbody tr th {\n",
              "        vertical-align: top;\n",
              "    }\n",
              "\n",
              "    .dataframe thead th {\n",
              "        text-align: right;\n",
              "    }\n",
              "</style>\n",
              "<table border=\"1\" class=\"dataframe\">\n",
              "  <thead>\n",
              "    <tr style=\"text-align: right;\">\n",
              "      <th></th>\n",
              "      <th>2017Q1</th>\n",
              "      <th>2017Q2</th>\n",
              "      <th>2017Q3</th>\n",
              "      <th>2017Q4</th>\n",
              "      <th>2018Q1</th>\n",
              "    </tr>\n",
              "    <tr>\n",
              "      <th>Line Item</th>\n",
              "      <th></th>\n",
              "      <th></th>\n",
              "      <th></th>\n",
              "      <th></th>\n",
              "      <th></th>\n",
              "    </tr>\n",
              "  </thead>\n",
              "  <tbody>\n",
              "    <tr>\n",
              "      <th>Revenue</th>\n",
              "      <td>115904</td>\n",
              "      <td>120854</td>\n",
              "      <td>118179</td>\n",
              "      <td>130936</td>\n",
              "      <td>117542</td>\n",
              "    </tr>\n",
              "    <tr>\n",
              "      <th>Expenses</th>\n",
              "      <td>86544</td>\n",
              "      <td>89485</td>\n",
              "      <td>87484</td>\n",
              "      <td>97743</td>\n",
              "      <td>87688</td>\n",
              "    </tr>\n",
              "    <tr>\n",
              "      <th>Profit</th>\n",
              "      <td>29360</td>\n",
              "      <td>31369</td>\n",
              "      <td>30695</td>\n",
              "      <td>33193</td>\n",
              "      <td>29854</td>\n",
              "    </tr>\n",
              "  </tbody>\n",
              "</table>\n",
              "</div>"
            ],
            "text/plain": [
              "           2017Q1  2017Q2  2017Q3  2017Q4  2018Q1\n",
              "Line Item                                        \n",
              "Revenue    115904  120854  118179  130936  117542\n",
              "Expenses    86544   89485   87484   97743   87688\n",
              "Profit      29360   31369   30695   33193   29854"
            ]
          },
          "metadata": {
            "tags": []
          },
          "execution_count": 26
        }
      ]
    },
    {
      "cell_type": "code",
      "metadata": {
        "id": "tb85o3n9GvWo",
        "colab_type": "code",
        "colab": {
          "base_uri": "https://localhost:8080/",
          "height": 204
        },
        "outputId": "b7af1713-4637-4539-ac41-2a0640c8dbe8"
      },
      "source": [
        "#Transpose\n",
        "df.T"
      ],
      "execution_count": null,
      "outputs": [
        {
          "output_type": "execute_result",
          "data": {
            "text/html": [
              "<div>\n",
              "<style scoped>\n",
              "    .dataframe tbody tr th:only-of-type {\n",
              "        vertical-align: middle;\n",
              "    }\n",
              "\n",
              "    .dataframe tbody tr th {\n",
              "        vertical-align: top;\n",
              "    }\n",
              "\n",
              "    .dataframe thead th {\n",
              "        text-align: right;\n",
              "    }\n",
              "</style>\n",
              "<table border=\"1\" class=\"dataframe\">\n",
              "  <thead>\n",
              "    <tr style=\"text-align: right;\">\n",
              "      <th>Line Item</th>\n",
              "      <th>Revenue</th>\n",
              "      <th>Expenses</th>\n",
              "      <th>Profit</th>\n",
              "    </tr>\n",
              "  </thead>\n",
              "  <tbody>\n",
              "    <tr>\n",
              "      <th>2017Q1</th>\n",
              "      <td>115904</td>\n",
              "      <td>86544</td>\n",
              "      <td>29360</td>\n",
              "    </tr>\n",
              "    <tr>\n",
              "      <th>2017Q2</th>\n",
              "      <td>120854</td>\n",
              "      <td>89485</td>\n",
              "      <td>31369</td>\n",
              "    </tr>\n",
              "    <tr>\n",
              "      <th>2017Q3</th>\n",
              "      <td>118179</td>\n",
              "      <td>87484</td>\n",
              "      <td>30695</td>\n",
              "    </tr>\n",
              "    <tr>\n",
              "      <th>2017Q4</th>\n",
              "      <td>130936</td>\n",
              "      <td>97743</td>\n",
              "      <td>33193</td>\n",
              "    </tr>\n",
              "    <tr>\n",
              "      <th>2018Q1</th>\n",
              "      <td>117542</td>\n",
              "      <td>87688</td>\n",
              "      <td>29854</td>\n",
              "    </tr>\n",
              "  </tbody>\n",
              "</table>\n",
              "</div>"
            ],
            "text/plain": [
              "Line Item  Revenue  Expenses  Profit\n",
              "2017Q1      115904     86544   29360\n",
              "2017Q2      120854     89485   31369\n",
              "2017Q3      118179     87484   30695\n",
              "2017Q4      130936     97743   33193\n",
              "2018Q1      117542     87688   29854"
            ]
          },
          "metadata": {
            "tags": []
          },
          "execution_count": 27
        }
      ]
    },
    {
      "cell_type": "code",
      "metadata": {
        "id": "2LO6whPBKQJw",
        "colab_type": "code",
        "colab": {
          "base_uri": "https://localhost:8080/",
          "height": 34
        },
        "outputId": "4973b757-72ef-4bf1-b3fb-9e754477e61d"
      },
      "source": [
        "df.index"
      ],
      "execution_count": null,
      "outputs": [
        {
          "output_type": "execute_result",
          "data": {
            "text/plain": [
              "Index(['Revenue', 'Expenses', 'Profit'], dtype='object', name='Line Item')"
            ]
          },
          "metadata": {
            "tags": []
          },
          "execution_count": 28
        }
      ]
    }
  ]
}