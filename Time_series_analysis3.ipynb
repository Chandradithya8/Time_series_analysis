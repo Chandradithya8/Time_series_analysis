{
  "nbformat": 4,
  "nbformat_minor": 0,
  "metadata": {
    "colab": {
      "name": "Time_series_analysis3.ipynb",
      "provenance": [],
      "authorship_tag": "ABX9TyM82M9mmsV9e4q4j2T5wAl9",
      "include_colab_link": true
    },
    "kernelspec": {
      "name": "python3",
      "display_name": "Python 3"
    }
  },
  "cells": [
    {
      "cell_type": "markdown",
      "metadata": {
        "id": "view-in-github",
        "colab_type": "text"
      },
      "source": [
        "<a href=\"https://colab.research.google.com/github/Chandradithya8/Time_series_analysis/blob/master/Time_series_analysis3.ipynb\" target=\"_parent\"><img src=\"https://colab.research.google.com/assets/colab-badge.svg\" alt=\"Open In Colab\"/></a>"
      ]
    },
    {
      "cell_type": "code",
      "metadata": {
        "id": "Cx-NBlgQTheL",
        "colab_type": "code",
        "colab": {
          "base_uri": "https://localhost:8080/",
          "height": 204
        },
        "outputId": "6c434026-d767-4b4e-ac6d-62bc785935b5"
      },
      "source": [
        "import pandas as pd\n",
        "df=pd.read_csv(\"/content/Holidays.csv\")\n",
        "df.head()"
      ],
      "execution_count": null,
      "outputs": [
        {
          "output_type": "execute_result",
          "data": {
            "text/html": [
              "<div>\n",
              "<style scoped>\n",
              "    .dataframe tbody tr th:only-of-type {\n",
              "        vertical-align: middle;\n",
              "    }\n",
              "\n",
              "    .dataframe tbody tr th {\n",
              "        vertical-align: top;\n",
              "    }\n",
              "\n",
              "    .dataframe thead th {\n",
              "        text-align: right;\n",
              "    }\n",
              "</style>\n",
              "<table border=\"1\" class=\"dataframe\">\n",
              "  <thead>\n",
              "    <tr style=\"text-align: right;\">\n",
              "      <th></th>\n",
              "      <th>Open</th>\n",
              "      <th>High</th>\n",
              "      <th>Low</th>\n",
              "      <th>Close</th>\n",
              "      <th>Volume</th>\n",
              "    </tr>\n",
              "  </thead>\n",
              "  <tbody>\n",
              "    <tr>\n",
              "      <th>0</th>\n",
              "      <td>144.88</td>\n",
              "      <td>145.30</td>\n",
              "      <td>143.10</td>\n",
              "      <td>143.50</td>\n",
              "      <td>14277848</td>\n",
              "    </tr>\n",
              "    <tr>\n",
              "      <th>1</th>\n",
              "      <td>143.69</td>\n",
              "      <td>144.79</td>\n",
              "      <td>142.72</td>\n",
              "      <td>144.09</td>\n",
              "      <td>21569557</td>\n",
              "    </tr>\n",
              "    <tr>\n",
              "      <th>2</th>\n",
              "      <td>143.02</td>\n",
              "      <td>143.50</td>\n",
              "      <td>142.41</td>\n",
              "      <td>142.73</td>\n",
              "      <td>24128782</td>\n",
              "    </tr>\n",
              "    <tr>\n",
              "      <th>3</th>\n",
              "      <td>142.90</td>\n",
              "      <td>144.75</td>\n",
              "      <td>142.90</td>\n",
              "      <td>144.18</td>\n",
              "      <td>19201712</td>\n",
              "    </tr>\n",
              "    <tr>\n",
              "      <th>4</th>\n",
              "      <td>144.11</td>\n",
              "      <td>145.95</td>\n",
              "      <td>143.37</td>\n",
              "      <td>145.06</td>\n",
              "      <td>21090636</td>\n",
              "    </tr>\n",
              "  </tbody>\n",
              "</table>\n",
              "</div>"
            ],
            "text/plain": [
              "     Open    High     Low   Close    Volume\n",
              "0  144.88  145.30  143.10  143.50  14277848\n",
              "1  143.69  144.79  142.72  144.09  21569557\n",
              "2  143.02  143.50  142.41  142.73  24128782\n",
              "3  142.90  144.75  142.90  144.18  19201712\n",
              "4  144.11  145.95  143.37  145.06  21090636"
            ]
          },
          "metadata": {
            "tags": []
          },
          "execution_count": 3
        }
      ]
    },
    {
      "cell_type": "code",
      "metadata": {
        "id": "Q1eWcLSCT75j",
        "colab_type": "code",
        "colab": {
          "base_uri": "https://localhost:8080/",
          "height": 102
        },
        "outputId": "3f041dcd-287b-461e-f5a6-3cf6c2714272"
      },
      "source": [
        "dra=pd.date_range(start=\"2017-07-01\",end=\"2017-07-21\",freq='B') #4 july-US independance day\n",
        "dra"
      ],
      "execution_count": null,
      "outputs": [
        {
          "output_type": "execute_result",
          "data": {
            "text/plain": [
              "DatetimeIndex(['2017-07-03', '2017-07-04', '2017-07-05', '2017-07-06',\n",
              "               '2017-07-07', '2017-07-10', '2017-07-11', '2017-07-12',\n",
              "               '2017-07-13', '2017-07-14', '2017-07-17', '2017-07-18',\n",
              "               '2017-07-19', '2017-07-20', '2017-07-21'],\n",
              "              dtype='datetime64[ns]', freq='B')"
            ]
          },
          "metadata": {
            "tags": []
          },
          "execution_count": 4
        }
      ]
    },
    {
      "cell_type": "code",
      "metadata": {
        "id": "OlV9Y7G3Xuxx",
        "colab_type": "code",
        "colab": {
          "base_uri": "https://localhost:8080/",
          "height": 34
        },
        "outputId": "9d95b6c2-ed34-4860-daab-837631a2ce91"
      },
      "source": [
        "from pandas.tseries.holiday import USFederalHolidayCalendar\n",
        "from pandas.tseries.offsets import CustomBusinessDay\n",
        "usb=CustomBusinessDay(calendar=USFederalHolidayCalendar())\n",
        "usb"
      ],
      "execution_count": null,
      "outputs": [
        {
          "output_type": "execute_result",
          "data": {
            "text/plain": [
              "<CustomBusinessDay>"
            ]
          },
          "metadata": {
            "tags": []
          },
          "execution_count": 10
        }
      ]
    },
    {
      "cell_type": "code",
      "metadata": {
        "id": "ZIuKJJ39YS4J",
        "colab_type": "code",
        "colab": {
          "base_uri": "https://localhost:8080/",
          "height": 102
        },
        "outputId": "2cb3116a-d7b3-4b01-fab0-b1c75c4ef3ed"
      },
      "source": [
        "rng=pd.date_range(start=\"2017-07-01\",end=\"2017-07-21\",freq=usb)\n",
        "rng"
      ],
      "execution_count": null,
      "outputs": [
        {
          "output_type": "execute_result",
          "data": {
            "text/plain": [
              "DatetimeIndex(['2017-07-03', '2017-07-05', '2017-07-06', '2017-07-07',\n",
              "               '2017-07-10', '2017-07-11', '2017-07-12', '2017-07-13',\n",
              "               '2017-07-14', '2017-07-17', '2017-07-18', '2017-07-19',\n",
              "               '2017-07-20', '2017-07-21'],\n",
              "              dtype='datetime64[ns]', freq='C')"
            ]
          },
          "metadata": {
            "tags": []
          },
          "execution_count": 12
        }
      ]
    },
    {
      "cell_type": "code",
      "metadata": {
        "id": "wFD00YeRdify",
        "colab_type": "code",
        "colab": {
          "base_uri": "https://localhost:8080/",
          "height": 483
        },
        "outputId": "389e694d-6f0d-49ec-8c52-ff13867eb196"
      },
      "source": [
        "df.set_index(rng,inplace=True)\n",
        "df"
      ],
      "execution_count": null,
      "outputs": [
        {
          "output_type": "execute_result",
          "data": {
            "text/html": [
              "<div>\n",
              "<style scoped>\n",
              "    .dataframe tbody tr th:only-of-type {\n",
              "        vertical-align: middle;\n",
              "    }\n",
              "\n",
              "    .dataframe tbody tr th {\n",
              "        vertical-align: top;\n",
              "    }\n",
              "\n",
              "    .dataframe thead th {\n",
              "        text-align: right;\n",
              "    }\n",
              "</style>\n",
              "<table border=\"1\" class=\"dataframe\">\n",
              "  <thead>\n",
              "    <tr style=\"text-align: right;\">\n",
              "      <th></th>\n",
              "      <th>Open</th>\n",
              "      <th>High</th>\n",
              "      <th>Low</th>\n",
              "      <th>Close</th>\n",
              "      <th>Volume</th>\n",
              "    </tr>\n",
              "  </thead>\n",
              "  <tbody>\n",
              "    <tr>\n",
              "      <th>2017-07-03</th>\n",
              "      <td>144.88</td>\n",
              "      <td>145.30</td>\n",
              "      <td>143.10</td>\n",
              "      <td>143.50</td>\n",
              "      <td>14277848</td>\n",
              "    </tr>\n",
              "    <tr>\n",
              "      <th>2017-07-05</th>\n",
              "      <td>143.69</td>\n",
              "      <td>144.79</td>\n",
              "      <td>142.72</td>\n",
              "      <td>144.09</td>\n",
              "      <td>21569557</td>\n",
              "    </tr>\n",
              "    <tr>\n",
              "      <th>2017-07-06</th>\n",
              "      <td>143.02</td>\n",
              "      <td>143.50</td>\n",
              "      <td>142.41</td>\n",
              "      <td>142.73</td>\n",
              "      <td>24128782</td>\n",
              "    </tr>\n",
              "    <tr>\n",
              "      <th>2017-07-07</th>\n",
              "      <td>142.90</td>\n",
              "      <td>144.75</td>\n",
              "      <td>142.90</td>\n",
              "      <td>144.18</td>\n",
              "      <td>19201712</td>\n",
              "    </tr>\n",
              "    <tr>\n",
              "      <th>2017-07-10</th>\n",
              "      <td>144.11</td>\n",
              "      <td>145.95</td>\n",
              "      <td>143.37</td>\n",
              "      <td>145.06</td>\n",
              "      <td>21090636</td>\n",
              "    </tr>\n",
              "    <tr>\n",
              "      <th>2017-07-11</th>\n",
              "      <td>144.73</td>\n",
              "      <td>145.85</td>\n",
              "      <td>144.38</td>\n",
              "      <td>145.53</td>\n",
              "      <td>19781836</td>\n",
              "    </tr>\n",
              "    <tr>\n",
              "      <th>2017-07-12</th>\n",
              "      <td>145.87</td>\n",
              "      <td>146.18</td>\n",
              "      <td>144.82</td>\n",
              "      <td>145.74</td>\n",
              "      <td>24884478</td>\n",
              "    </tr>\n",
              "    <tr>\n",
              "      <th>2017-07-13</th>\n",
              "      <td>145.50</td>\n",
              "      <td>148.49</td>\n",
              "      <td>145.44</td>\n",
              "      <td>147.77</td>\n",
              "      <td>25199373</td>\n",
              "    </tr>\n",
              "    <tr>\n",
              "      <th>2017-07-14</th>\n",
              "      <td>147.97</td>\n",
              "      <td>149.33</td>\n",
              "      <td>147.33</td>\n",
              "      <td>149.04</td>\n",
              "      <td>20132061</td>\n",
              "    </tr>\n",
              "    <tr>\n",
              "      <th>2017-07-17</th>\n",
              "      <td>148.82</td>\n",
              "      <td>150.90</td>\n",
              "      <td>148.57</td>\n",
              "      <td>149.56</td>\n",
              "      <td>23793456</td>\n",
              "    </tr>\n",
              "    <tr>\n",
              "      <th>2017-07-18</th>\n",
              "      <td>149.20</td>\n",
              "      <td>150.13</td>\n",
              "      <td>148.67</td>\n",
              "      <td>150.08</td>\n",
              "      <td>17868792</td>\n",
              "    </tr>\n",
              "    <tr>\n",
              "      <th>2017-07-19</th>\n",
              "      <td>150.48</td>\n",
              "      <td>151.42</td>\n",
              "      <td>149.95</td>\n",
              "      <td>151.02</td>\n",
              "      <td>20922969</td>\n",
              "    </tr>\n",
              "    <tr>\n",
              "      <th>2017-07-20</th>\n",
              "      <td>151.50</td>\n",
              "      <td>151.74</td>\n",
              "      <td>150.19</td>\n",
              "      <td>150.34</td>\n",
              "      <td>17243748</td>\n",
              "    </tr>\n",
              "    <tr>\n",
              "      <th>2017-07-21</th>\n",
              "      <td>149.99</td>\n",
              "      <td>150.44</td>\n",
              "      <td>148.88</td>\n",
              "      <td>150.27</td>\n",
              "      <td>26252630</td>\n",
              "    </tr>\n",
              "  </tbody>\n",
              "</table>\n",
              "</div>"
            ],
            "text/plain": [
              "              Open    High     Low   Close    Volume\n",
              "2017-07-03  144.88  145.30  143.10  143.50  14277848\n",
              "2017-07-05  143.69  144.79  142.72  144.09  21569557\n",
              "2017-07-06  143.02  143.50  142.41  142.73  24128782\n",
              "2017-07-07  142.90  144.75  142.90  144.18  19201712\n",
              "2017-07-10  144.11  145.95  143.37  145.06  21090636\n",
              "2017-07-11  144.73  145.85  144.38  145.53  19781836\n",
              "2017-07-12  145.87  146.18  144.82  145.74  24884478\n",
              "2017-07-13  145.50  148.49  145.44  147.77  25199373\n",
              "2017-07-14  147.97  149.33  147.33  149.04  20132061\n",
              "2017-07-17  148.82  150.90  148.57  149.56  23793456\n",
              "2017-07-18  149.20  150.13  148.67  150.08  17868792\n",
              "2017-07-19  150.48  151.42  149.95  151.02  20922969\n",
              "2017-07-20  151.50  151.74  150.19  150.34  17243748\n",
              "2017-07-21  149.99  150.44  148.88  150.27  26252630"
            ]
          },
          "metadata": {
            "tags": []
          },
          "execution_count": 13
        }
      ]
    },
    {
      "cell_type": "code",
      "metadata": {
        "id": "QCqGc8Ykd_pt",
        "colab_type": "code",
        "colab": {
          "base_uri": "https://localhost:8080/",
          "height": 34
        },
        "outputId": "9517aa00-bf65-4742-ce19-215d382f693f"
      },
      "source": [
        "#Creating our own calendar\n",
        "from pandas.tseries.holiday import AbstractHolidayCalendar,Holiday\n",
        "class myCalendar(AbstractHolidayCalendar):\n",
        "  rules=[\n",
        "       Holiday('Adithya BirthDay',month=4,day=13),\n",
        "  ]\n",
        "myc=CustomBusinessDay(calendar=myCalendar())\n",
        "myc\n"
      ],
      "execution_count": null,
      "outputs": [
        {
          "output_type": "execute_result",
          "data": {
            "text/plain": [
              "<CustomBusinessDay>"
            ]
          },
          "metadata": {
            "tags": []
          },
          "execution_count": 31
        }
      ]
    },
    {
      "cell_type": "code",
      "metadata": {
        "id": "2Foo8tB9iQWw",
        "colab_type": "code",
        "colab": {
          "base_uri": "https://localhost:8080/",
          "height": 119
        },
        "outputId": "b07a87d5-45a0-40cc-9b3e-a833db79247f"
      },
      "source": [
        "fd=pd.date_range(start=\"2017-04-1\",end=\"2017-04-30\",freq=myc)\n",
        "fd"
      ],
      "execution_count": null,
      "outputs": [
        {
          "output_type": "execute_result",
          "data": {
            "text/plain": [
              "DatetimeIndex(['2017-04-03', '2017-04-04', '2017-04-05', '2017-04-06',\n",
              "               '2017-04-07', '2017-04-10', '2017-04-11', '2017-04-12',\n",
              "               '2017-04-14', '2017-04-17', '2017-04-18', '2017-04-19',\n",
              "               '2017-04-20', '2017-04-21', '2017-04-24', '2017-04-25',\n",
              "               '2017-04-26', '2017-04-27', '2017-04-28'],\n",
              "              dtype='datetime64[ns]', freq='C')"
            ]
          },
          "metadata": {
            "tags": []
          },
          "execution_count": 29
        }
      ]
    },
    {
      "cell_type": "code",
      "metadata": {
        "id": "Xx7vnGuwjRvb",
        "colab_type": "code",
        "colab": {
          "base_uri": "https://localhost:8080/",
          "height": 136
        },
        "outputId": "47176cbc-5f3a-416b-8302-ad5d5491a794"
      },
      "source": [
        "b=CustomBusinessDay(weekmask='Sun Mon Tue Wed Thu') #Fri and Sat are weekend in egypt\n",
        "fd=pd.date_range(start=\"2017-04-1\",end=\"2017-04-30\",freq=b)\n",
        "fd\n"
      ],
      "execution_count": null,
      "outputs": [
        {
          "output_type": "execute_result",
          "data": {
            "text/plain": [
              "DatetimeIndex(['2017-04-02', '2017-04-03', '2017-04-04', '2017-04-05',\n",
              "               '2017-04-06', '2017-04-09', '2017-04-10', '2017-04-11',\n",
              "               '2017-04-12', '2017-04-13', '2017-04-16', '2017-04-17',\n",
              "               '2017-04-18', '2017-04-19', '2017-04-20', '2017-04-23',\n",
              "               '2017-04-24', '2017-04-25', '2017-04-26', '2017-04-27',\n",
              "               '2017-04-30'],\n",
              "              dtype='datetime64[ns]', freq='C')"
            ]
          },
          "metadata": {
            "tags": []
          },
          "execution_count": 33
        }
      ]
    }
  ]
}