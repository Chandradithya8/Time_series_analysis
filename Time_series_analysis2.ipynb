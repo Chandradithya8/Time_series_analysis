{
  "nbformat": 4,
  "nbformat_minor": 0,
  "metadata": {
    "colab": {
      "name": "Time_series_analysis2.ipynb",
      "provenance": [],
      "authorship_tag": "ABX9TyPAzhQrqEh+l9GWg4ka2313",
      "include_colab_link": true
    },
    "kernelspec": {
      "name": "python3",
      "display_name": "Python 3"
    }
  },
  "cells": [
    {
      "cell_type": "markdown",
      "metadata": {
        "id": "view-in-github",
        "colab_type": "text"
      },
      "source": [
        "<a href=\"https://colab.research.google.com/github/Chandradithya8/Time_series_analysis/blob/master/Time_series_analysis2.ipynb\" target=\"_parent\"><img src=\"https://colab.research.google.com/assets/colab-badge.svg\" alt=\"Open In Colab\"/></a>"
      ]
    },
    {
      "cell_type": "code",
      "metadata": {
        "id": "CzVfBOzpqFP4",
        "colab_type": "code",
        "colab": {
          "base_uri": "https://localhost:8080/",
          "height": 204
        },
        "outputId": "53ae8023-fa90-4a9f-cb2c-454e91ee5352"
      },
      "source": [
        "import pandas as pd\n",
        "df=pd.read_excel(\"/content/apple.xlsx\",\"Sheet2\")\n",
        "df.head(5)"
      ],
      "execution_count": null,
      "outputs": [
        {
          "output_type": "execute_result",
          "data": {
            "text/html": [
              "<div>\n",
              "<style scoped>\n",
              "    .dataframe tbody tr th:only-of-type {\n",
              "        vertical-align: middle;\n",
              "    }\n",
              "\n",
              "    .dataframe tbody tr th {\n",
              "        vertical-align: top;\n",
              "    }\n",
              "\n",
              "    .dataframe thead th {\n",
              "        text-align: right;\n",
              "    }\n",
              "</style>\n",
              "<table border=\"1\" class=\"dataframe\">\n",
              "  <thead>\n",
              "    <tr style=\"text-align: right;\">\n",
              "      <th></th>\n",
              "      <th>Open</th>\n",
              "      <th>High</th>\n",
              "      <th>Low</th>\n",
              "      <th>Close</th>\n",
              "      <th>Volume</th>\n",
              "    </tr>\n",
              "  </thead>\n",
              "  <tbody>\n",
              "    <tr>\n",
              "      <th>0</th>\n",
              "      <td>153.17</td>\n",
              "      <td>153.33</td>\n",
              "      <td>152.22</td>\n",
              "      <td>153.18</td>\n",
              "      <td>16404088</td>\n",
              "    </tr>\n",
              "    <tr>\n",
              "      <th>1</th>\n",
              "      <td>153.58</td>\n",
              "      <td>155.45</td>\n",
              "      <td>152.89</td>\n",
              "      <td>155.45</td>\n",
              "      <td>27770715</td>\n",
              "    </tr>\n",
              "    <tr>\n",
              "      <th>2</th>\n",
              "      <td>154.34</td>\n",
              "      <td>154.45</td>\n",
              "      <td>153.46</td>\n",
              "      <td>153.93</td>\n",
              "      <td>25331662</td>\n",
              "    </tr>\n",
              "    <tr>\n",
              "      <th>3</th>\n",
              "      <td>153.90</td>\n",
              "      <td>155.81</td>\n",
              "      <td>153.78</td>\n",
              "      <td>154.45</td>\n",
              "      <td>26624926</td>\n",
              "    </tr>\n",
              "    <tr>\n",
              "      <th>4</th>\n",
              "      <td>155.02</td>\n",
              "      <td>155.98</td>\n",
              "      <td>154.48</td>\n",
              "      <td>155.37</td>\n",
              "      <td>21069647</td>\n",
              "    </tr>\n",
              "  </tbody>\n",
              "</table>\n",
              "</div>"
            ],
            "text/plain": [
              "     Open    High     Low   Close    Volume\n",
              "0  153.17  153.33  152.22  153.18  16404088\n",
              "1  153.58  155.45  152.89  155.45  27770715\n",
              "2  154.34  154.45  153.46  153.93  25331662\n",
              "3  153.90  155.81  153.78  154.45  26624926\n",
              "4  155.02  155.98  154.48  155.37  21069647"
            ]
          },
          "metadata": {
            "tags": []
          },
          "execution_count": 3
        }
      ]
    },
    {
      "cell_type": "code",
      "metadata": {
        "id": "Wt9TUgzjqvtm",
        "colab_type": "code",
        "colab": {
          "base_uri": "https://localhost:8080/",
          "height": 136
        },
        "outputId": "e2a000e9-5676-4a8e-cbcf-e5e724fe02bc"
      },
      "source": [
        "dra=pd.date_range(start=\"2017-06-01\",end=\"2017-06-30\",freq='B')\n",
        "dra"
      ],
      "execution_count": null,
      "outputs": [
        {
          "output_type": "execute_result",
          "data": {
            "text/plain": [
              "DatetimeIndex(['2017-06-01', '2017-06-02', '2017-06-05', '2017-06-06',\n",
              "               '2017-06-07', '2017-06-08', '2017-06-09', '2017-06-12',\n",
              "               '2017-06-13', '2017-06-14', '2017-06-15', '2017-06-16',\n",
              "               '2017-06-19', '2017-06-20', '2017-06-21', '2017-06-22',\n",
              "               '2017-06-23', '2017-06-26', '2017-06-27', '2017-06-28',\n",
              "               '2017-06-29', '2017-06-30'],\n",
              "              dtype='datetime64[ns]', freq='B')"
            ]
          },
          "metadata": {
            "tags": []
          },
          "execution_count": 4
        }
      ]
    },
    {
      "cell_type": "code",
      "metadata": {
        "id": "eeIfOVv5LJ1Y",
        "colab_type": "code",
        "colab": {
          "base_uri": "https://localhost:8080/",
          "height": 731
        },
        "outputId": "626e1059-fc26-4b34-a9f5-8151c7178304"
      },
      "source": [
        "df.set_index(dra,inplace=True)\n",
        "df"
      ],
      "execution_count": null,
      "outputs": [
        {
          "output_type": "execute_result",
          "data": {
            "text/html": [
              "<div>\n",
              "<style scoped>\n",
              "    .dataframe tbody tr th:only-of-type {\n",
              "        vertical-align: middle;\n",
              "    }\n",
              "\n",
              "    .dataframe tbody tr th {\n",
              "        vertical-align: top;\n",
              "    }\n",
              "\n",
              "    .dataframe thead th {\n",
              "        text-align: right;\n",
              "    }\n",
              "</style>\n",
              "<table border=\"1\" class=\"dataframe\">\n",
              "  <thead>\n",
              "    <tr style=\"text-align: right;\">\n",
              "      <th></th>\n",
              "      <th>Open</th>\n",
              "      <th>High</th>\n",
              "      <th>Low</th>\n",
              "      <th>Close</th>\n",
              "      <th>Volume</th>\n",
              "    </tr>\n",
              "  </thead>\n",
              "  <tbody>\n",
              "    <tr>\n",
              "      <th>2017-06-01</th>\n",
              "      <td>153.17</td>\n",
              "      <td>153.33</td>\n",
              "      <td>152.22</td>\n",
              "      <td>153.18</td>\n",
              "      <td>16404088</td>\n",
              "    </tr>\n",
              "    <tr>\n",
              "      <th>2017-06-02</th>\n",
              "      <td>153.58</td>\n",
              "      <td>155.45</td>\n",
              "      <td>152.89</td>\n",
              "      <td>155.45</td>\n",
              "      <td>27770715</td>\n",
              "    </tr>\n",
              "    <tr>\n",
              "      <th>2017-06-05</th>\n",
              "      <td>154.34</td>\n",
              "      <td>154.45</td>\n",
              "      <td>153.46</td>\n",
              "      <td>153.93</td>\n",
              "      <td>25331662</td>\n",
              "    </tr>\n",
              "    <tr>\n",
              "      <th>2017-06-06</th>\n",
              "      <td>153.90</td>\n",
              "      <td>155.81</td>\n",
              "      <td>153.78</td>\n",
              "      <td>154.45</td>\n",
              "      <td>26624926</td>\n",
              "    </tr>\n",
              "    <tr>\n",
              "      <th>2017-06-07</th>\n",
              "      <td>155.02</td>\n",
              "      <td>155.98</td>\n",
              "      <td>154.48</td>\n",
              "      <td>155.37</td>\n",
              "      <td>21069647</td>\n",
              "    </tr>\n",
              "    <tr>\n",
              "      <th>2017-06-08</th>\n",
              "      <td>155.25</td>\n",
              "      <td>155.54</td>\n",
              "      <td>154.40</td>\n",
              "      <td>154.99</td>\n",
              "      <td>21250798</td>\n",
              "    </tr>\n",
              "    <tr>\n",
              "      <th>2017-06-09</th>\n",
              "      <td>155.19</td>\n",
              "      <td>155.19</td>\n",
              "      <td>146.02</td>\n",
              "      <td>148.98</td>\n",
              "      <td>64882657</td>\n",
              "    </tr>\n",
              "    <tr>\n",
              "      <th>2017-06-12</th>\n",
              "      <td>145.74</td>\n",
              "      <td>146.09</td>\n",
              "      <td>142.51</td>\n",
              "      <td>145.42</td>\n",
              "      <td>72307330</td>\n",
              "    </tr>\n",
              "    <tr>\n",
              "      <th>2017-06-13</th>\n",
              "      <td>147.16</td>\n",
              "      <td>147.45</td>\n",
              "      <td>145.15</td>\n",
              "      <td>146.59</td>\n",
              "      <td>34165445</td>\n",
              "    </tr>\n",
              "    <tr>\n",
              "      <th>2017-06-14</th>\n",
              "      <td>147.50</td>\n",
              "      <td>147.50</td>\n",
              "      <td>143.84</td>\n",
              "      <td>145.16</td>\n",
              "      <td>31531232</td>\n",
              "    </tr>\n",
              "    <tr>\n",
              "      <th>2017-06-15</th>\n",
              "      <td>143.32</td>\n",
              "      <td>144.48</td>\n",
              "      <td>142.21</td>\n",
              "      <td>144.29</td>\n",
              "      <td>32165373</td>\n",
              "    </tr>\n",
              "    <tr>\n",
              "      <th>2017-06-16</th>\n",
              "      <td>143.78</td>\n",
              "      <td>144.50</td>\n",
              "      <td>142.20</td>\n",
              "      <td>142.27</td>\n",
              "      <td>50361093</td>\n",
              "    </tr>\n",
              "    <tr>\n",
              "      <th>2017-06-19</th>\n",
              "      <td>143.66</td>\n",
              "      <td>146.74</td>\n",
              "      <td>143.66</td>\n",
              "      <td>146.34</td>\n",
              "      <td>32541404</td>\n",
              "    </tr>\n",
              "    <tr>\n",
              "      <th>2017-06-20</th>\n",
              "      <td>146.87</td>\n",
              "      <td>146.87</td>\n",
              "      <td>144.94</td>\n",
              "      <td>145.01</td>\n",
              "      <td>24900073</td>\n",
              "    </tr>\n",
              "    <tr>\n",
              "      <th>2017-06-21</th>\n",
              "      <td>145.52</td>\n",
              "      <td>146.07</td>\n",
              "      <td>144.61</td>\n",
              "      <td>145.87</td>\n",
              "      <td>21265751</td>\n",
              "    </tr>\n",
              "    <tr>\n",
              "      <th>2017-06-22</th>\n",
              "      <td>145.77</td>\n",
              "      <td>146.70</td>\n",
              "      <td>145.12</td>\n",
              "      <td>145.63</td>\n",
              "      <td>19106294</td>\n",
              "    </tr>\n",
              "    <tr>\n",
              "      <th>2017-06-23</th>\n",
              "      <td>145.13</td>\n",
              "      <td>147.16</td>\n",
              "      <td>145.11</td>\n",
              "      <td>146.28</td>\n",
              "      <td>35439389</td>\n",
              "    </tr>\n",
              "    <tr>\n",
              "      <th>2017-06-26</th>\n",
              "      <td>147.17</td>\n",
              "      <td>148.28</td>\n",
              "      <td>145.38</td>\n",
              "      <td>145.82</td>\n",
              "      <td>25692361</td>\n",
              "    </tr>\n",
              "    <tr>\n",
              "      <th>2017-06-27</th>\n",
              "      <td>145.01</td>\n",
              "      <td>146.16</td>\n",
              "      <td>143.62</td>\n",
              "      <td>143.73</td>\n",
              "      <td>24761891</td>\n",
              "    </tr>\n",
              "    <tr>\n",
              "      <th>2017-06-28</th>\n",
              "      <td>144.49</td>\n",
              "      <td>146.11</td>\n",
              "      <td>143.16</td>\n",
              "      <td>145.83</td>\n",
              "      <td>22082432</td>\n",
              "    </tr>\n",
              "    <tr>\n",
              "      <th>2017-06-29</th>\n",
              "      <td>144.71</td>\n",
              "      <td>145.13</td>\n",
              "      <td>142.28</td>\n",
              "      <td>143.68</td>\n",
              "      <td>31499368</td>\n",
              "    </tr>\n",
              "    <tr>\n",
              "      <th>2017-06-30</th>\n",
              "      <td>144.45</td>\n",
              "      <td>144.96</td>\n",
              "      <td>143.78</td>\n",
              "      <td>144.02</td>\n",
              "      <td>23024107</td>\n",
              "    </tr>\n",
              "  </tbody>\n",
              "</table>\n",
              "</div>"
            ],
            "text/plain": [
              "              Open    High     Low   Close    Volume\n",
              "2017-06-01  153.17  153.33  152.22  153.18  16404088\n",
              "2017-06-02  153.58  155.45  152.89  155.45  27770715\n",
              "2017-06-05  154.34  154.45  153.46  153.93  25331662\n",
              "2017-06-06  153.90  155.81  153.78  154.45  26624926\n",
              "2017-06-07  155.02  155.98  154.48  155.37  21069647\n",
              "2017-06-08  155.25  155.54  154.40  154.99  21250798\n",
              "2017-06-09  155.19  155.19  146.02  148.98  64882657\n",
              "2017-06-12  145.74  146.09  142.51  145.42  72307330\n",
              "2017-06-13  147.16  147.45  145.15  146.59  34165445\n",
              "2017-06-14  147.50  147.50  143.84  145.16  31531232\n",
              "2017-06-15  143.32  144.48  142.21  144.29  32165373\n",
              "2017-06-16  143.78  144.50  142.20  142.27  50361093\n",
              "2017-06-19  143.66  146.74  143.66  146.34  32541404\n",
              "2017-06-20  146.87  146.87  144.94  145.01  24900073\n",
              "2017-06-21  145.52  146.07  144.61  145.87  21265751\n",
              "2017-06-22  145.77  146.70  145.12  145.63  19106294\n",
              "2017-06-23  145.13  147.16  145.11  146.28  35439389\n",
              "2017-06-26  147.17  148.28  145.38  145.82  25692361\n",
              "2017-06-27  145.01  146.16  143.62  143.73  24761891\n",
              "2017-06-28  144.49  146.11  143.16  145.83  22082432\n",
              "2017-06-29  144.71  145.13  142.28  143.68  31499368\n",
              "2017-06-30  144.45  144.96  143.78  144.02  23024107"
            ]
          },
          "metadata": {
            "tags": []
          },
          "execution_count": 5
        }
      ]
    },
    {
      "cell_type": "code",
      "metadata": {
        "id": "mdhMvkRmMI-t",
        "colab_type": "code",
        "colab": {
          "base_uri": "https://localhost:8080/",
          "height": 320
        },
        "outputId": "23b0cfd6-92e3-4ca3-ced1-acbc109938b4"
      },
      "source": [
        "%matplotlib inline\n",
        "df.Close.plot()"
      ],
      "execution_count": null,
      "outputs": [
        {
          "output_type": "execute_result",
          "data": {
            "text/plain": [
              "<matplotlib.axes._subplots.AxesSubplot at 0x7fe7e059fe48>"
            ]
          },
          "metadata": {
            "tags": []
          },
          "execution_count": 7
        },
        {
          "output_type": "display_data",
          "data": {
            "image/png": "[encoded data removed]",
            "text/plain": [
              "<Figure size 432x288 with 1 Axes>"
            ]
          },
          "metadata": {
            "tags": [],
            "needs_background": "light"
          }
        }
      ]
    },
    {
      "cell_type": "code",
      "metadata": {
        "id": "Ptm4X6FmO0J9",
        "colab_type": "code",
        "colab": {
          "base_uri": "https://localhost:8080/",
          "height": 646
        },
        "outputId": "9a5a0192-9788-49da-f8cd-dfbf40ae9383"
      },
      "source": [
        "dra2=pd.date_range(start=\"1-1-2017\",periods=72,freq='H')#if end date is not known but periods are known\n",
        "dra2 "
      ],
      "execution_count": null,
      "outputs": [
        {
          "output_type": "execute_result",
          "data": {
            "text/plain": [
              "DatetimeIndex(['2017-01-01 00:00:00', '2017-01-01 01:00:00',\n",
              "               '2017-01-01 02:00:00', '2017-01-01 03:00:00',\n",
              "               '2017-01-01 04:00:00', '2017-01-01 05:00:00',\n",
              "               '2017-01-01 06:00:00', '2017-01-01 07:00:00',\n",
              "               '2017-01-01 08:00:00', '2017-01-01 09:00:00',\n",
              "               '2017-01-01 10:00:00', '2017-01-01 11:00:00',\n",
              "               '2017-01-01 12:00:00', '2017-01-01 13:00:00',\n",
              "               '2017-01-01 14:00:00', '2017-01-01 15:00:00',\n",
              "               '2017-01-01 16:00:00', '2017-01-01 17:00:00',\n",
              "               '2017-01-01 18:00:00', '2017-01-01 19:00:00',\n",
              "               '2017-01-01 20:00:00', '2017-01-01 21:00:00',\n",
              "               '2017-01-01 22:00:00', '2017-01-01 23:00:00',\n",
              "               '2017-01-02 00:00:00', '2017-01-02 01:00:00',\n",
              "               '2017-01-02 02:00:00', '2017-01-02 03:00:00',\n",
              "               '2017-01-02 04:00:00', '2017-01-02 05:00:00',\n",
              "               '2017-01-02 06:00:00', '2017-01-02 07:00:00',\n",
              "               '2017-01-02 08:00:00', '2017-01-02 09:00:00',\n",
              "               '2017-01-02 10:00:00', '2017-01-02 11:00:00',\n",
              "               '2017-01-02 12:00:00', '2017-01-02 13:00:00',\n",
              "               '2017-01-02 14:00:00', '2017-01-02 15:00:00',\n",
              "               '2017-01-02 16:00:00', '2017-01-02 17:00:00',\n",
              "               '2017-01-02 18:00:00', '2017-01-02 19:00:00',\n",
              "               '2017-01-02 20:00:00', '2017-01-02 21:00:00',\n",
              "               '2017-01-02 22:00:00', '2017-01-02 23:00:00',\n",
              "               '2017-01-03 00:00:00', '2017-01-03 01:00:00',\n",
              "               '2017-01-03 02:00:00', '2017-01-03 03:00:00',\n",
              "               '2017-01-03 04:00:00', '2017-01-03 05:00:00',\n",
              "               '2017-01-03 06:00:00', '2017-01-03 07:00:00',\n",
              "               '2017-01-03 08:00:00', '2017-01-03 09:00:00',\n",
              "               '2017-01-03 10:00:00', '2017-01-03 11:00:00',\n",
              "               '2017-01-03 12:00:00', '2017-01-03 13:00:00',\n",
              "               '2017-01-03 14:00:00', '2017-01-03 15:00:00',\n",
              "               '2017-01-03 16:00:00', '2017-01-03 17:00:00',\n",
              "               '2017-01-03 18:00:00', '2017-01-03 19:00:00',\n",
              "               '2017-01-03 20:00:00', '2017-01-03 21:00:00',\n",
              "               '2017-01-03 22:00:00', '2017-01-03 23:00:00'],\n",
              "              dtype='datetime64[ns]', freq='H')"
            ]
          },
          "metadata": {
            "tags": []
          },
          "execution_count": 14
        }
      ]
    },
    {
      "cell_type": "code",
      "metadata": {
        "id": "abHTtqjbQTCQ",
        "colab_type": "code",
        "colab": {
          "base_uri": "https://localhost:8080/",
          "height": 221
        },
        "outputId": "450c4122-148a-4d70-bab5-e298ad910c26"
      },
      "source": [
        "import numpy as np #creating random data\n",
        "r=np.random.randint(1,10,len(dra2))\n",
        "tp=pd.Series(r,dra2)\n",
        "tp\n",
        "\n"
      ],
      "execution_count": null,
      "outputs": [
        {
          "output_type": "execute_result",
          "data": {
            "text/plain": [
              "2017-01-01 00:00:00    4\n",
              "2017-01-01 01:00:00    7\n",
              "2017-01-01 02:00:00    1\n",
              "2017-01-01 03:00:00    5\n",
              "2017-01-01 04:00:00    6\n",
              "                      ..\n",
              "2017-01-03 19:00:00    8\n",
              "2017-01-03 20:00:00    5\n",
              "2017-01-03 21:00:00    9\n",
              "2017-01-03 22:00:00    8\n",
              "2017-01-03 23:00:00    1\n",
              "Freq: H, Length: 72, dtype: int64"
            ]
          },
          "metadata": {
            "tags": []
          },
          "execution_count": 19
        }
      ]
    },
    {
      "cell_type": "code",
      "metadata": {
        "id": "ZSxOZoLOSx6x",
        "colab_type": "code",
        "colab": {}
      },
      "source": [
        ""
      ],
      "execution_count": null,
      "outputs": []
    }
  ]
}